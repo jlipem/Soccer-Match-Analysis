{
 "cells": [
  {
   "cell_type": "code",
   "execution_count": 2,
   "metadata": {},
   "outputs": [],
   "source": [
    "import pandas as pd\n",
    "import matplotlib.pyplot as plt\n",
    "import numpy as np"
   ]
  },
  {
   "cell_type": "code",
   "execution_count": 3,
   "metadata": {},
   "outputs": [],
   "source": [
    "# set constants\n",
    "APRIORI_SIGNIFICANCE = 0.1"
   ]
  },
  {
   "cell_type": "code",
   "execution_count": 5,
   "metadata": {},
   "outputs": [],
   "source": [
    "# retrieve df from csv at epl website\n",
    "\n",
    "def retrieve_EPL():\n",
    "    \"\"\"\n",
    "    retrieves about 7800 match results from EPL and stores them in the dataframe data\n",
    "    \"\"\"\n",
    "    prem = pd.read_csv(\"http://www.football-data.co.uk/mmz4281/9394/E0.csv\") #read data\n",
    "    prem = prem[['HomeTeam','AwayTeam','FTHG','FTAG']]                       #remove unnecessary columns\n",
    "    prem = prem.rename(columns={'FTHG': 'HomeGoals', 'FTAG': 'AwayGoals'})   #rename columns to be more readable\n",
    "    years = []                                                               #this is where our data will be stored\n",
    "    for i in range(94, 118):                                                 #for every year we have data available, create a string to insert into the url\n",
    "                                                                             #in order to retrieve the correct data\n",
    "        if i < 99:\n",
    "            year = str(i) + str(i+1)\n",
    "        elif i == 99:\n",
    "            year = \"9900\"\n",
    "        elif i == 100:\n",
    "            year = \"0001\"\n",
    "        #data from 2002 to 2004 is in a different format, can't extract csv file\n",
    "        elif 101 < i < 105:\n",
    "            continue\n",
    "        elif i < 109:\n",
    "            year = \"0\" + str(i-100) + \"0\" + str(i + 1 -100)\n",
    "        elif i < 110:\n",
    "            year = \"0\" + str(i-100) + str(i + 1 -100)\n",
    "        else:\n",
    "            year = str(i-100) + str(i + 1 -100)\n",
    "        #print(year)\n",
    "        nex = pd.read_csv(\"http://www.football-data.co.uk/mmz4281/\" + year + \"/E0.csv\") #read data into dataframe\n",
    "        nex = nex[['HomeTeam','AwayTeam','FTHG','FTAG']]                            #remove unnecessary columns\n",
    "        nex = nex.rename(columns={'FTHG': 'HomeGoals', 'FTAG': 'AwayGoals'})        #rename columns to be more readable\n",
    "        years.append(nex)\n",
    "    data = pd.concat(years)\n",
    "    data = data[ (data['HomeTeam'].notnull()) ]           #remove null values\n",
    "    return data\n",
    "# retrieve_EPL()"
   ]
  },
  {
   "cell_type": "code",
   "execution_count": null,
   "metadata": {},
   "outputs": [],
   "source": [
    "# Takes a teamName and outputs the relevant results contained in matches\n",
    "def filter_by_team(teamName, matches):\n",
    "    return matches[ (matches['HomeTeam'] == teamName) | (matches['AwayTeam'] == teamName) ]"
   ]
  },
  {
   "cell_type": "code",
   "execution_count": 2,
   "metadata": {},
   "outputs": [],
   "source": [
    "# Given a df of all matches played by a team, return an array of arrays, with each subarray being a season\n",
    "def split_by_year(df):\n",
    "    "
   ]
  },
  {
   "cell_type": "code",
   "execution_count": null,
   "metadata": {},
   "outputs": [],
   "source": [
    "# implement apriori pattern mining w/ constant significance level from above, return significant patterns"
   ]
  }
 ],
 "metadata": {
  "kernelspec": {
   "display_name": "Python 3",
   "language": "python",
   "name": "python3"
  },
  "language_info": {
   "codemirror_mode": {
    "name": "ipython",
    "version": 3
   },
   "file_extension": ".py",
   "mimetype": "text/x-python",
   "name": "python",
   "nbconvert_exporter": "python",
   "pygments_lexer": "ipython3",
   "version": "3.6.6"
  }
 },
 "nbformat": 4,
 "nbformat_minor": 2
}
