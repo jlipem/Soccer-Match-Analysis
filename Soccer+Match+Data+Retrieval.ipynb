{
 "cells": [
  {
   "cell_type": "code",
   "execution_count": 1,
   "metadata": {
    "collapsed": true
   },
   "outputs": [],
   "source": [
    "import pandas as pd\n",
    "import matplotlib.pyplot as plt\n",
    "import numpy as np\n",
    "from sklearn.metrics import mean_squared_error\n",
    "from sklearn import linear_model\n",
    "from sklearn import preprocessing\n",
    "from sklearn.neural_network import MLPRegressor"
   ]
  },
  {
   "cell_type": "code",
   "execution_count": 2,
   "metadata": {
    "collapsed": true
   },
   "outputs": [],
   "source": [
    "\n",
    "def retrieveEPL():\n",
    "    \"\"\"\n",
    "    retrieves about 7800 match results from EPL and stores them in the dataframe data\n",
    "    \"\"\"\n",
    "    prem = pd.read_csv(\"http://www.football-data.co.uk/mmz4281/9394/E0.csv\") #read data\n",
    "    prem = prem[['HomeTeam','AwayTeam','FTHG','FTAG']]                       #remove unnecessary columns\n",
    "    prem = prem.rename(columns={'FTHG': 'HomeGoals', 'FTAG': 'AwayGoals'})   #rename columns to be more readable\n",
    "    years = []                                                               #this is where our data will be stored\n",
    "    for i in range(94, 118):                                                 #for every year we have data available, create a string to insert into the url\n",
    "                                                                             #in order to retrieve the correct data\n",
    "        if i < 99:\n",
    "            year = str(i) + str(i+1)\n",
    "        elif i == 99:\n",
    "            year = \"9900\"\n",
    "        elif i == 100:\n",
    "            year = \"0001\"\n",
    "        #data from 2002 to 2004 is in a different format, can't extract csv file\n",
    "        elif 101 < i < 105:\n",
    "            continue\n",
    "        elif i < 109:\n",
    "            year = \"0\" + str(i-100) + \"0\" + str(i + 1 -100)\n",
    "        elif i < 110:\n",
    "            year = \"0\" + str(i-100) + str(i + 1 -100)\n",
    "        else:\n",
    "            year = str(i-100) + str(i + 1 -100)\n",
    "        #print(year)\n",
    "        nex = pd.read_csv(\"http://www.football-data.co.uk/mmz4281/\" + year + \"/E0.csv\") #read data into dataframe\n",
    "        nex = nex[['HomeTeam','AwayTeam','FTHG','FTAG']]                            #remove unnecessary columns\n",
    "        nex = nex.rename(columns={'FTHG': 'HomeGoals', 'FTAG': 'AwayGoals'})        #rename columns to be more readable\n",
    "        years.append(nex)\n",
    "    data = pd.concat(years)\n",
    "    data = data[ (data['HomeTeam'].notnull()) ]           #remove null values\n",
    "    return data\n"
   ]
  },
  {
   "cell_type": "code",
   "execution_count": 3,
   "metadata": {
    "collapsed": true
   },
   "outputs": [],
   "source": [
    "\n",
    "def last5(teamName, index, matches):\n",
    "    \"\"\"\n",
    "    Takes a string (teamName) and int index and outputs an array of their last 5 results\n",
    "    \"\"\"\n",
    "    arr = []\n",
    "    prevResults = matches[0:index]\n",
    "    ##use or operator on arr to find where teamName == hometeam or awayteam column\n",
    "    prevTeamResults = prevResults[ (prevResults['HomeTeam'] == teamName) | (prevResults['AwayTeam'] == teamName) ]\n",
    "    last = prevTeamResults[-5 : prevTeamResults.shape[0]]   #find last five results\n",
    "    #check which team is teamName and use homegoals and away goals to identify result\n",
    "    for i in range(0, last.shape[0]):\n",
    "        hg = int(last[i:i+1]['HomeGoals'])\n",
    "        ag = int(last[i:i+1]['AwayGoals'])\n",
    "        goalDifference = hg-ag\n",
    "        if goalDifference > 4:\n",
    "            goalDifference = 4\n",
    "        if goalDifference < -4:\n",
    "            goalDifference = -4\n",
    "        if (last[i:i+1]['HomeTeam'] == teamName).bool():    #put results in array arr \n",
    "            arr.append(goalDifference)\n",
    "        else:\n",
    "            arr.append(-goalDifference)\n",
    "    return arr"
   ]
  },
  {
   "cell_type": "code",
   "execution_count": 4,
   "metadata": {
    "collapsed": true
   },
   "outputs": [],
   "source": [
    "\n",
    "def prevMeetings(index, matches):\n",
    "    \"\"\"\n",
    "    Finds home team h and away team a at index\n",
    "    \"\"\"\n",
    "    home = matches[index-1:index]['HomeTeam']                 #find home team and away team names at index\n",
    "    away = matches[index-1:index]['AwayTeam']\n",
    "    home = \" \".join(pd.Series.to_string(home).split()[1:])    #remove index from value and change to string\n",
    "    away = \" \".join(pd.Series.to_string(away).split()[1:])\n",
    "    arr = []\n",
    "    prevResults = matches[0:index]                            #matches before index\n",
    "    #use or operator on arr to find where teamName == hometeam or awayteam column\n",
    "    prevTeamResults = prevResults[ (((prevResults['HomeTeam'] == home) | (prevResults['HomeTeam'] == away)) & ((prevResults['AwayTeam'] == home) | (prevResults['AwayTeam'] == away))) ]\n",
    "    last = prevTeamResults[-2 : prevTeamResults.shape[0]]        #previous two results between the two teams\n",
    "    ##check which team is home and use homegoals and away goals to identify result\n",
    "    homeTeam1 = last[0:1]['HomeTeam']\n",
    "    homeTeam1 = \" \".join(pd.Series.to_string(homeTeam1).split()[1:])\n",
    "    homeTeam2 = last[1:2]['HomeTeam']\n",
    "    homeTeam2 = \" \".join(pd.Series.to_string(homeTeam2).split()[1:]) \n",
    "    if homeTeam1 == home:\n",
    "        gd1 = int(last[0:1]['HomeGoals']) - int(last[0:1]['AwayGoals'])\n",
    "    else:\n",
    "        gd1 = int(last[0:1]['AwayGoals']) - int(last[0:1]['HomeGoals'])\n",
    "    if homeTeam2 == home:\n",
    "        gd2 = int(last[1:2]['HomeGoals']) - int(last[1:2]['AwayGoals'])\n",
    "    else:\n",
    "        gd2 = int(last[1:2]['AwayGoals']) - int(last[1:2]['HomeGoals'])\n",
    "    #change to values to conform to the range [-4, 4]\n",
    "    if gd1 > 4:\n",
    "        gd1 = 4\n",
    "    if gd2 > 4:\n",
    "        gd2 = 4\n",
    "    if gd1 < -4:\n",
    "        gd1 = -4\n",
    "    if gd2 < -4:\n",
    "        gd2 = -4\n",
    "    #put results in arr\n",
    "    arr.append(gd1)\n",
    "    arr.append(gd2)\n",
    "    return arr\n"
   ]
  },
  {
   "cell_type": "code",
   "execution_count": 5,
   "metadata": {
    "collapsed": true
   },
   "outputs": [],
   "source": [
    "def sampler(data):\n",
    "    \"\"\"\n",
    "    Create the dataset, a dataframe that is comprised of z1-z4,\n",
    "     or more specifically last5 of hometeam, last5 of away team, and the two prevMeetings.\n",
    "    \"\"\"\n",
    "    samples = []\n",
    "    for index in range(0, data.shape[0]):       \n",
    "        #print(index+188)\n",
    "        home = data[index:index+1]['HomeTeam']                 #find home team and away team names at index\n",
    "        away = data[index:index+1]['AwayTeam']\n",
    "        home = \" \".join(pd.Series.to_string(home).split()[1:])    #remove index from value and change to string\n",
    "        away = \" \".join(pd.Series.to_string(away).split()[1:])\n",
    "        try:\n",
    "            z1arr = last5(home, index, data)\n",
    "        except:\n",
    "            z1arr = [-1,-1,-1,-1,-1]               #if the team has no past results, reflect a slightly\n",
    "                                                    #negative expectation based on no experience in the league\n",
    "        try:\n",
    "            z2arr = last5(away, index, data)\n",
    "        except:\n",
    "            z2arr = [-1,-1,-1,-1,-1]\n",
    "        try:\n",
    "            prev = prevMeetings(index, data)\n",
    "            z3 = prev[0]\n",
    "            z4 = prev[1]\n",
    "        except:\n",
    "            #If there are no results between the two teams, record z3 and z4 as draws\n",
    "            z3 = 0\n",
    "            z4 = 0\n",
    "        z1 = sum(z1arr)\n",
    "        z2 = sum(z2arr)\n",
    "        sample = [z1, z2, z3, z4]\n",
    "        samples.append(sample)\n",
    "    df = pd.DataFrame(samples, columns=['z1', 'z2', 'z3', 'z4'])\n",
    "    return df\n"
   ]
  },
  {
   "cell_type": "code",
   "execution_count": 6,
   "metadata": {
    "collapsed": true
   },
   "outputs": [],
   "source": [
    "def results(data):\n",
    "    \"\"\"\n",
    "    Finds the difference between home goals and away goals for the given dataframe\n",
    "    \"\"\"\n",
    "    goalDifference = []\n",
    "    for row in range(0, data.shape[0]):\n",
    "        gd = int(data[row: row+1]['HomeGoals']) - int(data[row: row+1]['AwayGoals'])\n",
    "        goalDifference.append(gd)\n",
    "    return goalDifference"
   ]
  },
  {
   "cell_type": "code",
   "execution_count": 7,
   "metadata": {
    "collapsed": true
   },
   "outputs": [],
   "source": [
    "data = retrieveEPL()                    #retrieve data\n",
    "X = sampler(data)                       #turn data into dataframe with columns [z1, z2, z3, z4]\n",
    "X = X[250:]                             #don't include the first 250 values, which prevMeetings won't find results for\n",
    "y = results(data[250:])                 #find actual results of matches in data\n"
   ]
  },
  {
   "cell_type": "code",
   "execution_count": 12,
   "metadata": {},
   "outputs": [
    {
     "data": {
      "text/plain": [
       "2.8679233043894681"
      ]
     },
     "execution_count": 12,
     "metadata": {},
     "output_type": "execute_result"
    }
   ],
   "source": [
    "model = linear_model.LinearRegression()     #instantiate model\n",
    "model.fit(X,y)                              #fit the model to the data\n",
    "predictions = model.predict(X)              #use the fitted model to make predictions based on sample data\n",
    "mean_squared_error(y, predictions)          #find the mean squared error\n",
    "#model.coef_                                #find the coefficients for each variable\n"
   ]
  },
  {
   "cell_type": "code",
   "execution_count": 13,
   "metadata": {},
   "outputs": [
    {
     "data": {
      "text/plain": [
       "2.8680144931333884"
      ]
     },
     "execution_count": 13,
     "metadata": {},
     "output_type": "execute_result"
    }
   ],
   "source": [
    "#create the same model as above, but without z3 and z4, to show how little of a difference they make\n",
    "df1 = X[['z1','z2']]                          \n",
    "model2 = linear_model.LinearRegression()      #instantiate model\n",
    "model2.fit(df1,y)                             #fit the model to the data\n",
    "predictions2 = model2.predict(df1)            #use the fitted model to make predictions based on sample data\n",
    "mean_squared_error(y, predictions2)           #find the mean squared error\n",
    "#model2.coef_                                 #find the coefficients for each variable"
   ]
  },
  {
   "cell_type": "code",
   "execution_count": 10,
   "metadata": {},
   "outputs": [
    {
     "data": {
      "text/plain": [
       "2.8435549982430457"
      ]
     },
     "execution_count": 10,
     "metadata": {},
     "output_type": "execute_result"
    }
   ],
   "source": [
    "X_scaled = preprocessing.scale(X)              #scale the data in order to make each variable start at comparable weights\n",
    "mlp = MLPRegressor(hidden_layer_sizes=50, random_state=1)      #instantiate the MLPRegressor with 50 layers\n",
    "mlp.fit(X_scaled, y)                                           #fit the data to the regressor\n",
    "predictions3 = mlp.predict(X_scaled)                           #make predictions based on the scaled data\n",
    "mean_squared_error(y, predictions3)                            #find the mean squared error"
   ]
  },
  {
   "cell_type": "code",
   "execution_count": 14,
   "metadata": {
    "collapsed": true
   },
   "outputs": [],
   "source": [
    "def evaluate(p):\n",
    "    \"\"\"\n",
    "    Prints metrics to evaluate the performance of p against actual results y\n",
    "    \"\"\"\n",
    "    print(\"\\n\")\n",
    "    n = 0\n",
    "    m = 0\n",
    "    draws = 0\n",
    "    hw = 0 \n",
    "    hl = 0\n",
    "    for i in range(0, len(p)):\n",
    "        if abs( p[i] - y[i]) < 0.5:\n",
    "            n+=1\n",
    "        if abs( p[i] - y[i]) < 1:\n",
    "            m+=1\n",
    "        if p[i]<.5 and p[i] > -.5 and y[i]==0:\n",
    "            draws +=1\n",
    "        if p[i]>.5 and y[i]>0:\n",
    "            hw +=1\n",
    "        if p[i] < -.5 and y[i] < 0:\n",
    "            hl +=1\n",
    "    print(\"within .5: \" + str( n / len(p)))\n",
    "    print(\"within 1: \" + str( m / len(p)))\n",
    "    print(\"draws \" + str( draws / len(p)))\n",
    "    print(\"home wins: \" + str( hw / len(p)))\n",
    "    print(\"home losses: \" + str( hl / len(p)))\n",
    "    print(\"percent total correct predictions: \" + str((draws + hw + hl) / len(p)))"
   ]
  },
  {
   "cell_type": "code",
   "execution_count": 15,
   "metadata": {},
   "outputs": [
    {
     "name": "stdout",
     "output_type": "stream",
     "text": [
      "\n",
      "\n",
      "within .5: 0.26391453442363494\n",
      "within 1: 0.49129517277763124\n",
      "draws 0.14468477974149302\n",
      "home wins: 0.2542864679504089\n",
      "home losses: 0.019651806911105248\n",
      "percent total correct predictions: 0.41862305460300714\n",
      "\n",
      "\n",
      "within .5: 0.264178317066737\n",
      "within 1: 0.4908994988129781\n",
      "draws 0.14442099709839093\n",
      "home wins: 0.2550778158797151\n",
      "home losses: 0.019651806911105248\n",
      "percent total correct predictions: 0.41915061988921126\n",
      "\n",
      "\n",
      "within .5: 0.2625956212081245\n",
      "within 1: 0.48892112898971246\n",
      "draws 0.1496966499604326\n",
      "home wins: 0.24109733579530468\n",
      "home losses: 0.022025850699024005\n",
      "percent total correct predictions: 0.4128198364547613\n"
     ]
    }
   ],
   "source": [
    "evaluate(predictions)\n",
    "evaluate(predictions2)\n",
    "evaluate(predictions3)"
   ]
  }
 ],
 "metadata": {
  "kernelspec": {
   "display_name": "Python 3",
   "language": "python",
   "name": "python3"
  },
  "language_info": {
   "codemirror_mode": {
    "name": "ipython",
    "version": 3
   },
   "file_extension": ".py",
   "mimetype": "text/x-python",
   "name": "python",
   "nbconvert_exporter": "python",
   "pygments_lexer": "ipython3",
   "version": "3.6.3"
  }
 },
 "nbformat": 4,
 "nbformat_minor": 2
}
